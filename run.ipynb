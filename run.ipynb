{
 "cells": [
  {
   "cell_type": "code",
   "execution_count": null,
   "id": "e4d683df-0f4a-46e1-a05d-228390862326",
   "metadata": {},
   "outputs": [],
   "source": [
    "! pip install rdkit\n",
    "! pip install torch_geometric\n",
    "\n",
    "import numpy as np\n",
    "from rdkit import Chem\n",
    "import torch\n",
    "import torch.nn as nn\n",
    "import numpy as np\n",
    "import torch.nn.functional as F\n",
    "import pandas as pd\n",
    "import multiprocessing as mp\n",
    "from utils import *\n",
    "from model import *\n",
    "from sklearn.model_selection import train_test_split"
   ]
  },
  {
   "cell_type": "markdown",
   "id": "2e62554c-68be-4e52-adbc-bcf66f3051f7",
   "metadata": {},
   "source": [
    "# Load Data & Model"
   ]
  },
  {
   "cell_type": "code",
   "execution_count": null,
   "id": "4bf3e421-9439-4145-98dc-b2e963afaf99",
   "metadata": {},
   "outputs": [],
   "source": [
    "smiles_path = 'data/smiles.txt' # smiles dataset\n",
    "data_path = 'data/qed_properties.csv' # properties we want to optimize\n",
    "\n",
    "df_smiles = pd.read_csv(smiles_path)\n",
    "datas = pd.read_csv(data_path)"
   ]
  },
  {
   "cell_type": "code",
   "execution_count": null,
   "id": "d630b874-dc8c-4a76-8a64-d412971d8a4c",
   "metadata": {},
   "outputs": [],
   "source": [
    "def get_data(r):\n",
    "    smiles = [df_smiles.loc[r, 'Whole'], df_smiles.loc[r, 'Core']]\n",
    "    cond = datas.loc[r].to_list()[1:]\n",
    "    whole = [cond[0]]\n",
    "    scaff = [cond[2]]\n",
    "    return [smiles, whole, scaff]"
   ]
  },
  {
   "cell_type": "code",
   "execution_count": null,
   "id": "4ab46278-5904-4e1e-82b7-977b8e108fb9",
   "metadata": {},
   "outputs": [],
   "source": [
    "pool = mp.Pool(processes=6)\n",
    "results = pool.map(get_data, range(len(df_smiles)))\n",
    "pool.close()\n",
    "pool.join()"
   ]
  },
  {
   "cell_type": "code",
   "execution_count": null,
   "id": "18fd838f-552d-40b9-b18c-2dc11aeef57b",
   "metadata": {},
   "outputs": [],
   "source": [
    "smiles, whole_conditions, scaffold_conditions = list(zip(*results))"
   ]
  },
  {
   "cell_type": "markdown",
   "id": "00b71c35-6c75-42aa-af73-8d773fdfe3bd",
   "metadata": {},
   "source": [
    "# Load & train model"
   ]
  },
  {
   "cell_type": "code",
   "execution_count": null,
   "id": "d9401267-5547-4878-8ec3-4efb798a264f",
   "metadata": {},
   "outputs": [],
   "source": [
    "device = torch.device('cuda' if torch.cuda.is_available() else 'cpu')\n",
    "\n",
    "model = MolVAE(33, 4, 128, 0, rnn=True)\n",
    "model = model.to(device)\n",
    "model.load_state_dict(torch.load('weights/rnn_weights.pt')) # weight of pretrained model"
   ]
  },
  {
   "cell_type": "code",
   "execution_count": null,
   "id": "11aa9781-8bcd-460d-bb2c-d4858f53477f",
   "metadata": {},
   "outputs": [],
   "source": [
    "optimizer = torch.optim.Adam(model.parameters(), lr=0.001)\n",
    "optimizer.load_state_dict(torch.load('weights/rnn_optimizer.pt'))"
   ]
  },
  {
   "cell_type": "code",
   "execution_count": null,
   "id": "a4bd76a8-332c-4dbf-ab05-74ba140e0055",
   "metadata": {},
   "outputs": [],
   "source": [
    "train_indices, test_indices = train_test_split(range(len(smiles)), random_state=1, test_size=0.2)"
   ]
  },
  {
   "cell_type": "code",
   "execution_count": null,
   "id": "73565160-3429-4686-8c90-459ea603f28f",
   "metadata": {},
   "outputs": [],
   "source": [
    "train_dataset = GraphData(smiles, None, train_indices)\n",
    "test_dataset = GraphData(smiles, None, test_indices)\n",
    "\n",
    "train_dl = GraphLoader(train_dataset, shuffle=True, batch_size=100, num_workers=6)\n",
    "test_dl = GraphLoader(test_dataset, shuffle=False, batch_size=100, num_workers=3)"
   ]
  },
  {
   "cell_type": "code",
   "execution_count": null,
   "id": "9e85ed39-9659-4e45-ba5b-34e466e0021a",
   "metadata": {},
   "outputs": [],
   "source": [
    "# cyclical annealing\n",
    "\n",
    "betas = frange_cycle_linear(0, 1, len(train_dl), 1, 0.8)"
   ]
  },
  {
   "cell_type": "code",
   "execution_count": null,
   "id": "a0c9e874-dfa6-4638-ab63-dbd9f2d10030",
   "metadata": {},
   "outputs": [],
   "source": [
    "def train(model, train_dl, epochs, betas, save=False, save_path=None):\n",
    "\n",
    "    for epoch in range(epochs):\n",
    "        comb_losses = []\n",
    "        recon_losses = []\n",
    "        vae_losses = []\n",
    "\n",
    "        progress = tqdm(train_dl)\n",
    "\n",
    "        for _, batch in enumerate(progress):\n",
    "            model.train()\n",
    "            optimizer.zero_grad()\n",
    "\n",
    "            steps, whole = batch\n",
    "            whole.condition = whole.condition.float()\n",
    "\n",
    "            pred = model(whole.to(device), steps.to(device), None)\n",
    "\n",
    "            recon_loss, vae_loss = pred\n",
    "            loss = recon_loss + vae_loss * betas[_]\n",
    "\n",
    "            comb_losses.append(loss.data.cpu().item())\n",
    "            recon_losses.append(recon_loss.data.cpu().item())\n",
    "            vae_losses.append(vae_loss.data.cpu().item())\n",
    "\n",
    "            loss.backward()\n",
    "\n",
    "            optimizer.step()\n",
    "\n",
    "            progress.set_description(f'Epoch [{epoch + 1}/{epochs}]')\n",
    "            progress.set_postfix(total_loss=np.mean(comb_losses), recon_loss=np.mean(recon_losses), vae_loss=np.mean(vae_losses), current_vae_loss=vae_loss.item(), beta=betas[_])\n",
    "\n",
    "            if _ % 1000 == 0:\n",
    "                torch.cuda.empty_cache()\n",
    "                gc.collect()\n",
    "                \n",
    "                if save is True:\n",
    "                    torch.save(model.state_dict(), f'{pre}_weights.pt')\n",
    "                    torch.save(optimizer.state_dict(), f'{pre}_optimizer.pt')\n",
    "\n",
    "        torch.cuda.empty_cache()\n",
    "        gc.collect()\n",
    "\n",
    "        if save is True:\n",
    "            torch.save(model.state_dict(), f'{pre}_weights.pt')\n",
    "            torch.save(optimizer.state_dict(), f'{pre}_optimizer.pt')\n",
    "            \n",
    "        return comb_losses, recon_losses, vae_losses\n",
    "            \n",
    "def evaluate(test_dl):\n",
    "    comb_losses = []\n",
    "    recon_losses = []\n",
    "    vae_losses = [0]\n",
    "            \n",
    "    progress = tqdm(test_dl)\n",
    "\n",
    "    for _, batch in enumerate(progress):\n",
    "        model.eval()\n",
    "        \n",
    "        steps, whole = batch\n",
    "        whole.condition = torch.Tensor(whole.condition).float()\n",
    "\n",
    "        pred = model(whole.to(device), steps.to(device), whole.condition)\n",
    "        \n",
    "        recon_loss, vae_loss = pred\n",
    "        loss = recon_loss + vae_loss * 5e-4\n",
    "        comb_losses.append(loss.data.cpu().item())\n",
    "        recon_losses.append(recon_loss.data.cpu().item())\n",
    "        vae_losses.append(vae_loss.data.cpu().item())\n",
    "        \n",
    "        progress.set_description(f'Epoch [{epoch}/{epochs}]')\n",
    "        progress.set_postfix(total_loss=np.mean(comb_losses), recon_loss=np.mean(recon_losses), vae_loss=np.mean(vae_losses))\n",
    "        \n",
    "    return np.mean(comb_losses), np.mean(recon_losses), np.mean(vae_losses)"
   ]
  },
  {
   "cell_type": "code",
   "execution_count": null,
   "id": "8fb12329-9835-4f4a-ba04-e08fef2c2cee",
   "metadata": {
    "tags": []
   },
   "outputs": [],
   "source": [
    "total_loss, recon_loss, vae_loss = train(train_dl, 5, betas)"
   ]
  },
  {
   "cell_type": "markdown",
   "id": "feca752d-30d4-4f80-876f-e373291cd4be",
   "metadata": {},
   "source": [
    "# Transfer Learning"
   ]
  },
  {
   "cell_type": "code",
   "execution_count": null,
   "id": "3a849db1-a5f2-4d08-ad03-ce56e531a2b7",
   "metadata": {},
   "outputs": [],
   "source": [
    "fine_tune = smiles[:1000] # placeholder\n",
    "fine_tune = [Chem.MolToSmiles(x) for x in fine_tune]\n",
    "fine_tune = [x for x in fine_tune if make_graph(x) != None]"
   ]
  },
  {
   "cell_type": "code",
   "execution_count": null,
   "id": "7965f4cd-c410-4043-9413-e128798a6cd6",
   "metadata": {},
   "outputs": [],
   "source": [
    "ft_smiles = []\n",
    "\n",
    "for smi in tqdm(fine_tune):\n",
    "    cores = get_cores(smi)\n",
    "    if cores == None:\n",
    "        continue\n",
    "    for core in cores:\n",
    "        ft_smiles.append([smi, core])"
   ]
  },
  {
   "cell_type": "code",
   "execution_count": null,
   "id": "d127f728-f72e-4da0-9149-7512a56c0f27",
   "metadata": {},
   "outputs": [],
   "source": [
    "ft_cond = [None] * len(ft_smiles) # if model is conditioned replace this w/ the list of qeds of the whole molecule"
   ]
  },
  {
   "cell_type": "code",
   "execution_count": null,
   "id": "2e056787-1abb-4ac8-808c-221c2e762d95",
   "metadata": {},
   "outputs": [],
   "source": [
    "train_dataset = GraphData(ft_smiles, ft_cond, range(len(ft_smiles)), key=False)\n",
    "\n",
    "train_dl = GraphLoader(train_dataset, shuffle=True, batch_size=100, num_workers=6)"
   ]
  },
  {
   "cell_type": "code",
   "execution_count": null,
   "id": "4cf9b221-b0da-40d7-a811-2111f224963b",
   "metadata": {},
   "outputs": [],
   "source": [
    "model = MolVAE(33, 4, 128, 0, rnn=True)\n",
    "model = model.to(device)\n",
    "model.load_state_dict(torch.load('weights/rnn_weights.pt'))\n",
    "optimizer = torch.optim.Adam(model.parameters(), lr=0.001)"
   ]
  },
  {
   "cell_type": "code",
   "execution_count": null,
   "id": "fd8be578-dc15-4fb8-bc2d-641d2627cfa2",
   "metadata": {},
   "outputs": [],
   "source": [
    "betas = frange_cycle_linear(0, 0.4, len(progress), 1, 1) # reduce betas due to less data"
   ]
  },
  {
   "cell_type": "code",
   "execution_count": null,
   "id": "680b30a7-f598-4b36-b144-b1d5883664c1",
   "metadata": {},
   "outputs": [],
   "source": [
    "comb_loss, recon_loss, vae_loss = train(model, train_dl, betas)"
   ]
  }
 ],
 "metadata": {
  "kernelspec": {
   "display_name": "Python 3 (ipykernel)",
   "language": "python",
   "name": "python3"
  },
  "language_info": {
   "codemirror_mode": {
    "name": "ipython",
    "version": 3
   },
   "file_extension": ".py",
   "mimetype": "text/x-python",
   "name": "python",
   "nbconvert_exporter": "python",
   "pygments_lexer": "ipython3",
   "version": "3.9.16"
  }
 },
 "nbformat": 4,
 "nbformat_minor": 5
}
